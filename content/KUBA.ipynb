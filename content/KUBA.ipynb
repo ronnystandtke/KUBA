{
  "metadata": {
    "kernelspec": {
      "name": "python",
      "display_name": "Python (Pyodide)",
      "language": "python"
    },
    "language_info": {
      "codemirror_mode": {
        "name": "python",
        "version": 3
      },
      "file_extension": ".py",
      "mimetype": "text/x-python",
      "name": "python",
      "nbconvert_exporter": "python",
      "pygments_lexer": "ipython3",
      "version": "3.8"
    }
  },
  "nbformat_minor": 5,
  "nbformat": 4,
  "cells": [
    {
      "id": "b90e081b-bbae-49c0-aecd-402f22ab54cf",
      "cell_type": "markdown",
      "source": "### Use the menu entry \"Run &rarr; Run All Cells\" to start this notebook.\nThis interactive Jupyter notebook is supported by <a href=\"https://www.mozilla.org/firefox/new/\" target=\"_blank\">Firefox</a> and\n<a href=\"https://en.wikipedia.org/wiki/Chromium_(web_browser)#Browsers_based_on_Chromium\" target=\"_blank\">Chromium-based browsers</a> like Chrome, Opera, Vivaldi, Brave, Edge and others.",
      "metadata": {}
    },
    {
      "id": "c6e20aba-01e2-4d65-ba14-0ba5d97314a8",
      "cell_type": "code",
      "source": "%pip install -q folium geopandas ipywidgets==8.0.5 mapclassify openpyxl pandas\n\nimport gettext\nimport ipywidgets as widgets\nfrom IPython.display import display\n\ngettext.bindtextdomain('kuba', 'translations')\ngettext.textdomain('kuba')\n_ = gettext.gettext\n\ntry:\n    from KUBA import KUBA\n\n    kuba = KUBA()\n\n    def loadButtonClicked(b):\n        kuba.loadBridges()\n\n    kuba.loadButton.on_click(loadButtonClicked)\n    \nexcept ModuleNotFoundError:\n    display(widgets.HTML(_(\n                \"\"\"\n                <h1>Startup failed</h1>\n                The startup of this notebook has failed. A known cause for this\n                error is starting the notebook in Firefox in private mode.\n                Please try again in a new Firefox window in normal mode. More\n                background information about this problem can be found here:\n                <br>\n                <a href=\"https://jupyterlite.readthedocs.io/en/latest/howto/configure/advanced/service-worker.html\" target=\"_blank\">\n                https://jupyterlite.readthedocs.io/en/latest/howto/configure/advanced/service-worker.html</a>\n                \"\"\"\n            )))",
      "metadata": {
        "trusted": true,
        "jupyter": {
          "source_hidden": true
        }
      },
      "outputs": [],
      "execution_count": null
    }
  ]
}