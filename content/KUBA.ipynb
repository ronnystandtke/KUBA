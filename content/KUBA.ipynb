{
  "metadata": {
    "kernelspec": {
      "name": "python",
      "display_name": "Python (Pyodide)",
      "language": "python"
    },
    "language_info": {
      "codemirror_mode": {
        "name": "python",
        "version": 3
      },
      "file_extension": ".py",
      "mimetype": "text/x-python",
      "name": "python",
      "nbconvert_exporter": "python",
      "pygments_lexer": "ipython3",
      "version": "3.8"
    }
  },
  "nbformat_minor": 5,
  "nbformat": 4,
  "cells": [
    {
      "id": "b90e081b-bbae-49c0-aecd-402f22ab54cf",
      "cell_type": "markdown",
      "source": "### Use the menu entry \"Run &rarr; Run All Cells\" to start this notebook.\nThis interactive Jupyter notebook is supported by <a href=\"https://www.mozilla.org/firefox/new/\" target=\"_blank\">Firefox</a> and\n<a href=\"https://en.wikipedia.org/wiki/Chromium_(web_browser)#Browsers_based_on_Chromium\" target=\"_blank\">Chromium-based browsers</a> like Chrome, Opera, Vivaldi, Brave, Edge and others.",
      "metadata": {}
    },
    {
      "id": "c6e20aba-01e2-4d65-ba14-0ba5d97314a8",
      "cell_type": "code",
      "source": "# main program code\n\nfrom datetime import datetime\nstart_time = datetime.now()\n\n# phase 1: install all necessary packages\nimport gettext\nimport piplite\nfrom IPython.display import clear_output, display, HTML\n\ngettext.bindtextdomain('kuba', 'translations')\ngettext.textdomain('kuba')\n_ = gettext.gettext\n\ntext_template = _('Installing package {package}')\n\n# install ipywidgets to be able to show a real progress bar\nprint(text_template.format(package=\"ipywidgets\"))\nawait piplite.install('ipywidgets==8.1.3')\n\nclear_output()\n\npackages = [\n    'babel',\n    'folium',\n    'geopandas',\n    'itables',\n    'ipyleaflet',\n    'mapclassify',\n    'openpyxl',\n    'pandas',\n    'plotly'\n]\n\n# there will be 6 additional steps later in the KUBA constructor\nfrom ProgressBar import ProgressBar\nprogress_bar = ProgressBar(len(packages) + 6)\n\nfor package in packages:\n    installing_text = text_template.format(package=package)\n    progress_bar.update_progress(description=installing_text)\n    await piplite.install(package)\n\n# phase 2: all necessary packages are installed\n# (start the real program)\nimport ipywidgets as widgets\n\ntry:\n    from KUBA import KUBA\n\n    kuba = KUBA(progress_bar)\n\n    def loadButtonClicked(b):\n        kuba.loadBridges()\n\n    def togglePocMarkersLayer(b):\n        kuba.bridges_poc_map.toggle_marker_layers()\n\n    def toggleRiskMarkersLayer(b):\n        kuba.bridges_risk_map.toggle_marker_layers()\n\n    def updateReadout(b):\n        kuba.updateReadout()\n\n    kuba.loadButton.on_click(loadButtonClicked)\n    kuba.bridges_poc_map.cluster_button.observe(togglePocMarkersLayer, names=\"value\")\n    kuba.bridges_risk_map.cluster_button.observe(toggleRiskMarkersLayer, names=\"value\")\n    kuba.bridgesSlider.observe(updateReadout, names=\"value\")\n\n    end_time = datetime.now()\n    elapsed_time = (end_time - start_time).total_seconds()\n    print(_(\"Program started at: {start_time}\").format(start_time=start_time))\n    print(_(\"Program completed at: {end_time}\").format(end_time=end_time))\n    print(_(\"Elapsed time: {elapsed_time} seconds\").format(elapsed_time=elapsed_time))\n\nexcept ModuleNotFoundError:\n    display(widgets.HTML(_(\n                \"\"\"\n                <h1>Startup failed</h1>\n                The startup of this notebook has failed. A known cause for this\n                error is starting the notebook in Firefox in private mode.\n                Please try again in a new Firefox window in normal mode. More\n                background information about this problem can be found here:\n                <br>\n                <a href=\"https://jupyterlite.readthedocs.io/en/latest/howto/configure/advanced/service-worker.html\" target=\"_blank\">\n                https://jupyterlite.readthedocs.io/en/latest/howto/configure/advanced/service-worker.html</a>\n                \"\"\"\n            )))",
      "metadata": {
        "trusted": true,
        "jupyter": {
          "source_hidden": true
        }
      },
      "outputs": [],
      "execution_count": null
    }
  ]
}