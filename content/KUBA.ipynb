{
  "metadata": {
    "kernelspec": {
      "name": "python",
      "display_name": "Python (Pyodide)",
      "language": "python"
    },
    "language_info": {
      "codemirror_mode": {
        "name": "python",
        "version": 3
      },
      "file_extension": ".py",
      "mimetype": "text/x-python",
      "name": "python",
      "nbconvert_exporter": "python",
      "pygments_lexer": "ipython3",
      "version": "3.8"
    }
  },
  "nbformat_minor": 5,
  "nbformat": 4,
  "cells": [
    {
      "id": "2a5e7736-7132-4b57-be0b-77fd87210b16",
      "cell_type": "markdown",
      "source": "# Auswertung KUBA-Bauwerksdaten\nDas Programm kann mit \"Run -> Run All Cells\" gestartet werden.",
      "metadata": {
        "jupyter": {
          "source_hidden": true
        }
      }
    },
    {
      "id": "04071ec7-6c60-4654-b4bd-1a4c54a0c03f",
      "cell_type": "code",
      "source": "%pip install -q folium geopandas ipywidgets==8.0.5 mapclassify openpyxl pandas",
      "metadata": {
        "trusted": true,
        "jupyter": {
          "source_hidden": true
        }
      },
      "outputs": [],
      "execution_count": null
    },
    {
      "id": "c6e20aba-01e2-4d65-ba14-0ba5d97314a8",
      "cell_type": "code",
      "source": "# TODO: i18n, L10n\n\n# imports\nimport folium\nimport geopandas as gpd\nimport math\nimport matplotlib.pyplot as plt\nimport pandas as pd\nimport ipywidgets as widgets\nfrom datetime import datetime\nfrom IPython.display import clear_output\nfrom shapely.geometry import Point\n\n\n# our constants\nNUMBER_LABEL = '\\xa0Nummer'\nX_LABEL = 'Landeskoordinaten\\xa0E\\xa0[m]'\nY_LABEL = 'Landeskoordinaten\\xa0N\\xa0[m]'\nNORM_YEAR_LABEL = 'Belastungsnorm\\xa0Text'\nYEAR_OF_CONSTRUCTION_LABEL = 'Baujahr'\nSPAN_LABEL = 'Spannweite [m]'\nTYPE_CODE_LABEL = 'Typ\\xa0Hierarchie-Code'\nTYPE_TEXT_LABEL = 'Typ\\xa0Text'\nMATERIAL_CODE_LABEL = 'Bauart\\xa0Code'\nMATERIAL_TEXT_LABEL = 'Bauart\\xa0Text'\nCURRENT_YEAR = datetime.now().year\n\n\n# read file with data\ndf = pd.read_excel(open('Bauwerksdaten aus KUBA.xlsx', 'rb'), sheet_name='Alle Brücken mit Zusatzinfos')\n\n# code to get the correct labels\n#print(df.columns.values)\n\n# convert to GeoDataFrame\npoints = []\nfor i in df.index:\n\tx = df[X_LABEL][i]\n\ty = df[Y_LABEL][i]\n\tpoints.append(Point(x,y))\nbridges = gpd.GeoDataFrame(df, geometry=points, crs='EPSG:2056')",
      "metadata": {
        "trusted": true,
        "jupyter": {
          "source_hidden": true
        }
      },
      "outputs": [],
      "execution_count": null
    },
    {
      "id": "b59b9d18-f429-421f-b19f-8da2f6541d3d",
      "cell_type": "code",
      "source": "earthquakeZones = gpd.read_file(\"zip://erdbebenzonen.zip!Erdbebenzonen\")",
      "metadata": {
        "trusted": true
      },
      "outputs": [],
      "execution_count": null
    },
    {
      "id": "aa02cfc5-24e0-4278-8f5e-06b97a9e72b2",
      "cell_type": "code",
      "source": "# risk calculations\n\ndef getNormYear(normText):\n    if isinstance(normText, str):\n        segments = normText.split(',')\n        if len(segments) > 1:\n            year = segments[0]\n            if '/' in year:\n                # some years are formatted like this: \"1913/15\"\n                return int(year.split('/')[0])\n            else:\n                return int(year)\n        else:\n            # text without year prefix\n            return None\n    else:\n        # empty text\n        return None\n\ndef getNormFactor(year):\n    if year == None:\n        # TODO: value for unknown year?\n        return 90\n    elif year < 1967:\n        return 90\n    elif year < 1973:\n        return 60\n    elif year < 1979:\n        return 40\n    elif year < 1985:\n        return 20\n    elif year < 2003:\n        return 10\n    else:\n        return 5\n\ndef getAge(yearOfConstruction):\n    # TODO: there are bridges without a year of construction in the dataset!\n    if math.isnan(yearOfConstruction):\n        return None\n    else:\n        return CURRENT_YEAR - int(yearOfConstruction)\n\ndef getConditionFactor(age):\n    if age == None:\n        # TODO: value for unknown ages?\n        return 1.019e-4 * 90.31\n    elif age < 1:\n        return 1.128e-6\n    elif age < 2:\n        return 2.112e-6 * 1.87\n    elif age < 5:\n        return 5.067e-6 * 4.49\n    elif age < 10:\n        return 9.712e-6 * 8.61\n    elif age < 15:\n        return 1.612e-5 * 14.29\n    elif age < 20:\n        return 2.066e-5 * 18.31\n    elif age < 30:\n        return 3.148e-5 * 27.91\n    elif age < 40:\n        return 4.025e-5 * 35.68\n    elif age < 50:\n        return 5.102e-5 * 45.22\n    elif age < 60:\n        return 6.079e-5 * 53.89\n    elif age < 70:\n        return 7.235e-5 * 64.13\n    elif age < 80:\n        return 8.117e-5 * 71.95\n    elif age < 90:\n        return 9.095e-5 * 80.62\n    else:\n        return 1.019e-4 * 90.31\n\ndef getSpan(spanText):\n    # TODO: there are bridges without span data!\n    if math.isnan(spanText):\n        return None\n    else:\n        return float(spanText)\n\ndef getSpanFactor(span):\n    # TODO: Erhöhungsfaktor Tragfähigkeit?\n    if span == None:\n        # TODO: value for unknown spans?\n        return 0.0238\n    elif span < 6:\n        return 0.0023\n    elif span < 12:\n        return 0.0047\n    elif span < 18:\n        return 0.0291\n    else:\n        return 0.0238\n\ndef getTypeFactor(type):\n    # TODO: check matching between document and table\n    if type == 1193:\n        # table: \"Plattenbrücke\"\n        # document: \"Plattenbalken\"\n        return 1\n    elif type == 1124:\n        # table: \"Brücke mit versteiftem Stabbogen / Langerscher Balken\"\n        # document: \"Balkenbrücke\"\n        return 0.6\n    elif type == 1132:\n        # both: \"Hängebrücke\"\n        return 17.5\n    else:\n        # TODO: default value (not needed yet, as all bridges in the current data set have a type)\n        return 1\n\ndef getMaterialCode(codeText):\n    # TODO: there are bridges without material data!\n    if codeText == '\\\\' or math.isnan(codeText):\n        return None\n    else:\n        return float(codeText)\n\ndef getMaterialFactor(materialCode):\n    # TODO: complete mappings?\n    if materialCode == 1121:\n        # table: \"Betonkonstruktion\"\n        # document: \"Beton\"\n        return 1\n    elif materialCode == 1141:\n        # table: \"Stahlkonstruktion\"\n        # document: \"Stahl\"\n        return 5.67\n    elif materialCode == 117 or materialCode == 1111:\n        # table: \"Holzkonstruktion\" (117)\n        # table: \"Mauerwerk\" (1111)\n        # document: \"Holz/Mauerwerk\"\n        return 6.67\n    elif materialCode == 1152:\n        # table: \"Verbundkonstruktion\"\n        # document: \"Verbund\"\n        return 1\n    else:\n        # TODO: default value?\n        return 1\n        \ndef getRobustnessFactor(yearOfConstruction):\n    # TODO: there are bridges without a year of construction in the dataset!\n    if math.isnan(yearOfConstruction):\n        # TODO: value for unkonwn year?\n        return 5\n    else:\n        if yearOfConstruction < 1968:\n            return 5\n        elif yearOfConstruction < 1973:\n            return 4.5\n        elif yearOfConstruction < 1980:\n            return 3.3\n        elif yearOfConstruction < 1986:\n            return 1.4\n        elif yearOfConstruction < 2003:\n            return 1.2\n        else:\n            return 1",
      "metadata": {
        "trusted": true,
        "jupyter": {
          "source_hidden": true
        }
      },
      "outputs": [],
      "execution_count": null
    },
    {
      "id": "f73ed56f-bce0-40ee-b85e-56fd7b2d5b73",
      "cell_type": "code",
      "source": "#map = folium.Map(location=[47.15826, 7.27716], tiles=\"OpenStreetMap\", zoom_start=9)\nmap = earthquakeZones.explore(\"ZONE\", cmap=\"OrRd\")\n\n# Leaflet always works in EPSG:4326, therefore we have to convert the CRS here\nosmBridges = bridges.to_crs('EPSG:4326')\n\n# create a progress bar\nprogressBar = widgets.IntProgress(\n    value=0,\n    min=0,\n    max=bridges.index.stop,\n    description='Brücken werden geladen:',\n    description_width=200,\n    bar_style= 'success', # 'success', 'info', 'warning', 'danger' or ''\n    style={'bar_color': 'green', 'description_width':'initial'},\n    orientation='horizontal',\n    layout=widgets.Layout(width='auto')\n)\n\ndisplay(progressBar)\n\n#for i in osmBridges.index:\nfor i in range(0,100):\n    point = osmBridges['geometry'][i]\n    # there ARE empty coordinates in the table! :-(\n    if not point.is_empty:\n\n        normYear = getNormYear(osmBridges[NORM_YEAR_LABEL][i])\n        normFactor = getNormFactor(normYear)\n\n        yearOfConstruction = osmBridges[YEAR_OF_CONSTRUCTION_LABEL][i]\n        age = getAge(yearOfConstruction)\n        conditionFactor = getConditionFactor(age)\n\n        span = getSpan(osmBridges[SPAN_LABEL][i])\n        spanFactor = getSpanFactor(span)\n\n        typeCode = osmBridges[TYPE_CODE_LABEL][i]\n        typeText = osmBridges[TYPE_TEXT_LABEL][i]\n        typeFactor = getTypeFactor(typeCode)\n\n        materialCode = getMaterialCode(osmBridges[MATERIAL_CODE_LABEL][i])\n        materialText = osmBridges[MATERIAL_TEXT_LABEL][i]\n        materialFactor = getMaterialFactor(materialCode)\n\n        robustnessFactor = getRobustnessFactor(yearOfConstruction)\n        \n        zone = earthquakeZones[earthquakeZones.contains(bridges['geometry'][i])]['ZONE']\n        if zone.empty:\n            zoneName = \"keine\"\n        else:\n            zoneName = zone.iloc[0]\n\n        map.add_child(\n            folium.Marker(\n                location=[point.xy[1][0], point.xy[0][0]],\n                popup='<b>Name</b>: ' + str(osmBridges['Name'][i] + '<br>' +\n                '<b>Jahr der Norm</b>: ' + (\"unbekannt\" if normYear == None else str(normYear)) + '<br>' +\n                '<b>Fehlerkorrekturfaktor</b>: ' + str(normFactor) + '<br>' +\n                '<b>Alter</b>: ' + (\"unbekannt\" if age == None else str(age)) + '<br>' +\n                '<b>Zustandsfaktor</b>: ' + str(conditionFactor) + '<br>' +\n                '<b>Spannweite</b>: ' + str(span) + ' m<br>' +\n                '<b>Statikfaktor</b>: ' + str(spanFactor) + '<br>' +\n                '<b>Typ</b>: ' + typeText + '<br>' +\n                '<b>Typfaktor</b>: ' + str(typeFactor) + '<br>' +\n                '<b>Baustoff</b>: ' + ('unbekannt' if not isinstance(materialText, str) else materialText) + '<br>' +\n                '<b>Baustoff-Faktor</b>: ' + str(materialFactor) + '<br>' +\n                '<b>Robustheitsfaktor</b>: ' + str(robustnessFactor) + '<br>' +\n                '<b>Erdbebenzone</b>: ' + zoneName + '<br>'),\n                #icon=folium.Icon(color=\"%s\" % type_color)\n                icon=folium.Icon(color=\"lightblue\")\n            )\n        )\n        progressBar.value += 1\n        progressBar.description = 'Brücken werden geladen: ' + str(progressBar.value) + '/' + str(progressBar.max)\n        \nclear_output()\nmap",
      "metadata": {
        "editable": true,
        "slideshow": {
          "slide_type": ""
        },
        "tags": [],
        "trusted": true,
        "jupyter": {
          "source_hidden": true
        }
      },
      "outputs": [],
      "execution_count": null
    }
  ]
}