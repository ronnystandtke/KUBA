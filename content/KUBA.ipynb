{
  "metadata": {
    "kernelspec": {
      "name": "python",
      "display_name": "Python (Pyodide)",
      "language": "python"
    },
    "language_info": {
      "codemirror_mode": {
        "name": "python",
        "version": 3
      },
      "file_extension": ".py",
      "mimetype": "text/x-python",
      "name": "python",
      "nbconvert_exporter": "python",
      "pygments_lexer": "ipython3",
      "version": "3.8"
    }
  },
  "nbformat_minor": 5,
  "nbformat": 4,
  "cells": [
    {
      "id": "b90e081b-bbae-49c0-aecd-402f22ab54cf",
      "cell_type": "markdown",
      "source": "### Use the menu entry \"Run &rarr; Run All Cells\" to start this notebook.\nThis interactive Jupyter notebook is supported by <a href=\"https://www.mozilla.org/firefox/new/\" target=\"_blank\">Firefox</a> and\n<a href=\"https://en.wikipedia.org/wiki/Chromium_(web_browser)#Browsers_based_on_Chromium\" target=\"_blank\">Chromium-based browsers</a> like Chrome, Opera, Vivaldi, Brave, Edge and others.",
      "metadata": {}
    },
    {
      "id": "c6e20aba-01e2-4d65-ba14-0ba5d97314a8",
      "cell_type": "code",
      "source": "# main program code\n\n# phase 1: install all necessary packages\nimport gettext\nimport piplite\nfrom IPython.display import clear_output, display, HTML, Javascript\n\ngettext.bindtextdomain('kuba', 'translations')\ngettext.textdomain('kuba')\n_ = gettext.gettext\n\npackages = [\n    'babel',\n    'folium',\n    'geopandas',\n    'itables',\n    'ipywidgets==8.1.2',\n    'ipyleaflet',\n    'mapclassify',\n    'openpyxl',\n    'pandas'\n]\n\nprogress_bar_template = \"\"\"\n<div style=\"border: 1px solid #ddd; border-radius: 4px; padding: 3px; width: 100%; margin: 10px 0;\">\n    <div id=\"progress-bar\" style=\"background: #4caf50; width: 0%; height: 20px; border-radius: 2px;\"></div>\n</div>\n<p id=\"package-name\" style=\"text-align: center; font-weight: bold;\"></p>\n\"\"\"\n\ndisplay(HTML(progress_bar_template))\n\ninstallingText = _('Installing')\n\ndef update_progress(progress, package):\n    js_code = f\"\"\"\n        <script>\n            var bar = document.getElementById(\"progress-bar\");\n            bar.style.width = {progress} + \"%\";\n            var packageName = document.getElementById(\"package-name\");\n            packageName.innerText = \"{installingText}: \" + \"{package}\";\n        </script>\n    \"\"\"\n    display(HTML(js_code))\n\ntotal_packages = len(packages)\nfor i, package in enumerate(packages):\n    progress = ((i + 1) / total_packages) * 100\n    update_progress(progress, package)\n    await piplite.install(package)\n\n# phase 2: all necessary packages are installed\n# (start the real program)\nimport ipywidgets as widgets\n\ntry:\n    from KUBA import KUBA\n\n    kuba = KUBA()\n\n    def loadButtonClicked(b):\n        kuba.loadBridges()\n\n    def toggleMarkersLayer(b):\n        kuba.toggleMarkerLayers()\n\n    def updateReadout(b):\n        kuba.updateReadout()\n\n    kuba.loadButton.on_click(loadButtonClicked)\n    kuba.clusterButton.observe(toggleMarkersLayer, names=\"value\")\n    kuba.bridgesSlider.observe(updateReadout, names=\"value\")\n    \nexcept ModuleNotFoundError:\n    display(widgets.HTML(_(\n                \"\"\"\n                <h1>Startup failed</h1>\n                The startup of this notebook has failed. A known cause for this\n                error is starting the notebook in Firefox in private mode.\n                Please try again in a new Firefox window in normal mode. More\n                background information about this problem can be found here:\n                <br>\n                <a href=\"https://jupyterlite.readthedocs.io/en/latest/howto/configure/advanced/service-worker.html\" target=\"_blank\">\n                https://jupyterlite.readthedocs.io/en/latest/howto/configure/advanced/service-worker.html</a>\n                \"\"\"\n            )))",
      "metadata": {
        "trusted": true,
        "jupyter": {
          "source_hidden": true
        }
      },
      "outputs": [],
      "execution_count": null
    }
  ]
}